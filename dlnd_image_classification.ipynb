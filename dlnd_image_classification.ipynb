{
 "cells": [
  {
   "cell_type": "markdown",
   "metadata": {
    "collapsed": true,
    "deletable": true,
    "editable": true
   },
   "source": [
    "# Image Classification\n",
    "In this project, you'll classify images from the [CIFAR-10 dataset](https://www.cs.toronto.edu/~kriz/cifar.html).  The dataset consists of airplanes, dogs, cats, and other objects. You'll preprocess the images, then train a convolutional neural network on all the samples. The images need to be normalized and the labels need to be one-hot encoded.  You'll get to apply what you learned and build a convolutional, max pooling, dropout, and fully connected layers.  At the end, you'll get to see your neural network's predictions on the sample images.\n",
    "## Get the Data\n",
    "Run the following cell to download [CIFAR-10 dataset for python](https://www.cs.toronto.edu/~kriz/cifar-10-python.tar.gz)."
   ]
  },
  {
   "cell_type": "code",
   "execution_count": null,
   "metadata": {
    "collapsed": false,
    "deletable": true,
    "editable": true
   },
   "outputs": [],
   "source": [
    "\"\"\"\n",
    "DON'T MODIFY ANYTHING IN THIS CELL THAT IS BELOW THIS LINE\n",
    "\"\"\"\n",
    "from urllib.request import urlretrieve\n",
    "from os.path import isfile, isdir\n",
    "from tqdm import tqdm\n",
    "import problem_unittests as tests\n",
    "import tarfile\n",
    "\n",
    "cifar10_dataset_folder_path = 'cifar-10-batches-py'\n",
    "\n",
    "class DLProgress(tqdm):\n",
    "    last_block = 0\n",
    "\n",
    "    def hook(self, block_num=1, block_size=1, total_size=None):\n",
    "        self.total = total_size\n",
    "        self.update((block_num - self.last_block) * block_size)\n",
    "        self.last_block = block_num\n",
    "\n",
    "if not isfile('cifar-10-python.tar.gz'):\n",
    "    with DLProgress(unit='B', unit_scale=True, miniters=1, desc='CIFAR-10 Dataset') as pbar:\n",
    "        urlretrieve(\n",
    "            'https://www.cs.toronto.edu/~kriz/cifar-10-python.tar.gz',\n",
    "            'cifar-10-python.tar.gz',\n",
    "            pbar.hook)\n",
    "\n",
    "if not isdir(cifar10_dataset_folder_path):\n",
    "    with tarfile.open('cifar-10-python.tar.gz') as tar:\n",
    "        tar.extractall()\n",
    "        tar.close()\n",
    "\n",
    "\n",
    "tests.test_folder_path(cifar10_dataset_folder_path)"
   ]
  },
  {
   "cell_type": "markdown",
   "metadata": {
    "deletable": true,
    "editable": true
   },
   "source": [
    "## Explore the Data\n",
    "The dataset is broken into batches to prevent your machine from running out of memory.  The CIFAR-10 dataset consists of 5 batches, named `data_batch_1`, `data_batch_2`, etc.. Each batch contains the labels and images that are one of the following:\n",
    "* airplane\n",
    "* automobile\n",
    "* bird\n",
    "* cat\n",
    "* deer\n",
    "* dog\n",
    "* frog\n",
    "* horse\n",
    "* ship\n",
    "* truck\n",
    "\n",
    "Understanding a dataset is part of making predictions on the data.  Play around with the code cell below by changing the `batch_id` and `sample_id`. The `batch_id` is the id for a batch (1-5). The `sample_id` is the id for a image and label pair in the batch.\n",
    "\n",
    "Ask yourself \"What are all possible labels?\", \"What is the range of values for the image data?\", \"Are the labels in order or random?\".  Answers to questions like these will help you preprocess the data and end up with better predictions."
   ]
  },
  {
   "cell_type": "code",
   "execution_count": null,
   "metadata": {
    "collapsed": false,
    "deletable": true,
    "editable": true
   },
   "outputs": [],
   "source": [
    "%matplotlib inline\n",
    "%config InlineBackend.figure_format = 'retina'\n",
    "\n",
    "import helper\n",
    "import numpy as np\n",
    "\n",
    "# Explore the dataset\n",
    "batch_id = 3\n",
    "sample_id = 1\n",
    "helper.display_stats(cifar10_dataset_folder_path, batch_id, sample_id)"
   ]
  },
  {
   "cell_type": "markdown",
   "metadata": {
    "deletable": true,
    "editable": true
   },
   "source": [
    "## Implement Preprocess Functions\n",
    "### Normalize\n",
    "In the cell below, implement the `normalize` function to take in image data, `x`, and return it as a normalized Numpy array. The values should be in the range of 0 to 1, inclusive.  The return object should be the same shape as `x`."
   ]
  },
  {
   "cell_type": "code",
   "execution_count": null,
   "metadata": {
    "collapsed": false,
    "deletable": true,
    "editable": true
   },
   "outputs": [],
   "source": [
    "def normalize(x):\n",
    "    \"\"\"\n",
    "    Normalize a list of sample image data in the range of 0 to 1\n",
    "    : x: List of image data.  The image shape is (32, 32, 3)\n",
    "    : return: Numpy array of normalize data\n",
    "    \"\"\"\n",
    "    # TODO: Implement Function\n",
    "    x=x.astype('float32')\n",
    "    if x.max() > 1.0:\n",
    "        x/=255.0\n",
    "    return x"
   ]
  },
  {
   "cell_type": "code",
   "execution_count": null,
   "metadata": {
    "collapsed": false,
    "deletable": true,
    "editable": true
   },
   "outputs": [],
   "source": [
    "\"\"\"\n",
    "DON'T MODIFY ANYTHING IN THIS CELL THAT IS BELOW THIS LINE\n",
    "\"\"\"\n",
    "tests.test_normalize(normalize)"
   ]
  },
  {
   "cell_type": "markdown",
   "metadata": {
    "deletable": true,
    "editable": true
   },
   "source": [
    "### One-hot encode\n",
    "Just like the previous code cell, you'll be implementing a function for preprocessing.  This time, you'll implement the `one_hot_encode` function. The input, `x`, are a list of labels.  Implement the function to return the list of labels as One-Hot encoded Numpy array.  The possible values for labels are 0 to 9. The one-hot encoding function should return the same encoding for each value between each call to `one_hot_encode`.  Make sure to save the map of encodings outside the function.\n",
    "\n",
    "Hint: Don't reinvent the wheel."
   ]
  },
  {
   "cell_type": "code",
   "execution_count": null,
   "metadata": {
    "collapsed": true,
    "deletable": true,
    "editable": true
   },
   "outputs": [],
   "source": [
    "import sklearn\n",
    "def one_hot_encode(x):\n",
    "    \"\"\"\n",
    "    One hot encode a list of sample labels. Return a one-hot encoded vector for each label.\n",
    "    : x: List of sample Labels\n",
    "    : return: Numpy array of one-hot encoded labels\n",
    "    \"\"\"\n",
    "    # TODO: Implement Function\n",
    "    a=sklearn.preprocessing.LabelBinarizer()\n",
    "    a.fit(range(max(x)+1))\n",
    "    x=a.transform(x)\n",
    "    return x"
   ]
  },
  {
   "cell_type": "code",
   "execution_count": null,
   "metadata": {
    "collapsed": false,
    "deletable": true,
    "editable": true
   },
   "outputs": [],
   "source": [
    "\"\"\"\n",
    "DON'T MODIFY ANYTHING IN THIS CELL THAT IS BELOW THIS LINE\n",
    "\"\"\"\n",
    "tests.test_one_hot_encode(one_hot_encode)"
   ]
  },
  {
   "cell_type": "markdown",
   "metadata": {
    "deletable": true,
    "editable": true
   },
   "source": [
    "### Randomize Data\n",
    "As you saw from exploring the data above, the order of the samples are randomized.  It doesn't hurt to randomize it again, but you don't need to for this dataset."
   ]
  },
  {
   "cell_type": "markdown",
   "metadata": {
    "deletable": true,
    "editable": true
   },
   "source": [
    "## Preprocess all the data and save it\n",
    "Running the code cell below will preprocess all the CIFAR-10 data and save it to file. The code below also uses 10% of the training data for validation."
   ]
  },
  {
   "cell_type": "code",
   "execution_count": null,
   "metadata": {
    "collapsed": true
   },
   "outputs": [],
   "source": [
    "cifar10_dataset_folder_path = 'cifar-10-batches-py'"
   ]
  },
  {
   "cell_type": "code",
   "execution_count": null,
   "metadata": {
    "collapsed": false,
    "deletable": true,
    "editable": true
   },
   "outputs": [],
   "source": [
    "\"\"\"\n",
    "DON'T MODIFY ANYTHING IN THIS CELL\n",
    "\"\"\"\n",
    "# Preprocess Training, Validation, and Testing Data\n",
    "helper.preprocess_and_save_data(cifar10_dataset_folder_path, normalize, one_hot_encode)"
   ]
  },
  {
   "cell_type": "markdown",
   "metadata": {
    "deletable": true,
    "editable": true
   },
   "source": [
    "# Check Point\n",
    "This is your first checkpoint.  If you ever decide to come back to this notebook or have to restart the notebook, you can start from here.  The preprocessed data has been saved to disk."
   ]
  },
  {
   "cell_type": "code",
   "execution_count": 1,
   "metadata": {
    "collapsed": true,
    "deletable": true,
    "editable": true
   },
   "outputs": [],
   "source": [
    "\"\"\"\n",
    "DON'T MODIFY ANYTHING IN THIS CELL\n",
    "\"\"\"\n",
    "import pickle\n",
    "import problem_unittests as tests\n",
    "import helper\n",
    "\n",
    "# Load the Preprocessed Validation data\n",
    "valid_features, valid_labels = pickle.load(open('preprocess_validation.p', mode='rb'))"
   ]
  },
  {
   "cell_type": "markdown",
   "metadata": {
    "deletable": true,
    "editable": true
   },
   "source": [
    "## Build the network\n",
    "For the neural network, you'll build each layer into a function.  Most of the code you've seen has been outside of functions. To test your code more thoroughly, we require that you put each layer in a function.  This allows us to give you better feedback and test for simple mistakes using our unittests before you submit your project.\n",
    "\n",
    ">**Note:** If you're finding it hard to dedicate enough time for this course each week, we've provided a small shortcut to this part of the project. In the next couple of problems, you'll have the option to use classes from the [TensorFlow Layers](https://www.tensorflow.org/api_docs/python/tf/layers) or [TensorFlow Layers (contrib)](https://www.tensorflow.org/api_guides/python/contrib.layers) packages to build each layer, except the layers you build in the \"Convolutional and Max Pooling Layer\" section.  TF Layers is similar to Keras's and TFLearn's abstraction to layers, so it's easy to pickup.\n",
    "\n",
    ">However, if you would like to get the most out of this course, try to solve all the problems _without_ using anything from the TF Layers packages. You **can** still use classes from other packages that happen to have the same name as ones you find in TF Layers! For example, instead of using the TF Layers version of the `conv2d` class, [tf.layers.conv2d](https://www.tensorflow.org/api_docs/python/tf/layers/conv2d), you would want to use the TF Neural Network version of `conv2d`, [tf.nn.conv2d](https://www.tensorflow.org/api_docs/python/tf/nn/conv2d). \n",
    "\n",
    "Let's begin!\n",
    "\n",
    "### Input\n",
    "The neural network needs to read the image data, one-hot encoded labels, and dropout keep probability. Implement the following functions\n",
    "* Implement `neural_net_image_input`\n",
    " * Return a [TF Placeholder](https://www.tensorflow.org/api_docs/python/tf/placeholder)\n",
    " * Set the shape using `image_shape` with batch size set to `None`.\n",
    " * Name the TensorFlow placeholder \"x\" using the TensorFlow `name` parameter in the [TF Placeholder](https://www.tensorflow.org/api_docs/python/tf/placeholder).\n",
    "* Implement `neural_net_label_input`\n",
    " * Return a [TF Placeholder](https://www.tensorflow.org/api_docs/python/tf/placeholder)\n",
    " * Set the shape using `n_classes` with batch size set to `None`.\n",
    " * Name the TensorFlow placeholder \"y\" using the TensorFlow `name` parameter in the [TF Placeholder](https://www.tensorflow.org/api_docs/python/tf/placeholder).\n",
    "* Implement `neural_net_keep_prob_input`\n",
    " * Return a [TF Placeholder](https://www.tensorflow.org/api_docs/python/tf/placeholder) for dropout keep probability.\n",
    " * Name the TensorFlow placeholder \"keep_prob\" using the TensorFlow `name` parameter in the [TF Placeholder](https://www.tensorflow.org/api_docs/python/tf/placeholder).\n",
    "\n",
    "These names will be used at the end of the project to load your saved model.\n",
    "\n",
    "Note: `None` for shapes in TensorFlow allow for a dynamic size."
   ]
  },
  {
   "cell_type": "code",
   "execution_count": 2,
   "metadata": {
    "collapsed": true,
    "deletable": true,
    "editable": true
   },
   "outputs": [],
   "source": [
    "import tensorflow as tf\n",
    "\n",
    "def neural_net_image_input(image_shape):\n",
    "    \"\"\"\n",
    "    Return a Tensor for a bach of image input\n",
    "    : image_shape: Shape of the images\n",
    "    : return: Tensor for image input.\n",
    "    \"\"\"\n",
    "    # TODO: Implement Function\n",
    "    return tf.placeholder(tf.float32, shape=(None, image_shape[0], image_shape[1], image_shape[2]), name=\"x\")"
   ]
  },
  {
   "cell_type": "code",
   "execution_count": 3,
   "metadata": {
    "collapsed": true,
    "deletable": true,
    "editable": true
   },
   "outputs": [],
   "source": [
    "def neural_net_label_input(n_classes):\n",
    "    \"\"\"\n",
    "    Return a Tensor for a batch of label input\n",
    "    : n_classes: Number of classes\n",
    "    : return: Tensor for label input.\n",
    "    \"\"\"\n",
    "    # TODO: Implement Function\n",
    "    return tf.placeholder(tf.float32, shape=(None, n_classes), name=\"y\")"
   ]
  },
  {
   "cell_type": "code",
   "execution_count": 4,
   "metadata": {
    "collapsed": true,
    "deletable": true,
    "editable": true
   },
   "outputs": [],
   "source": [
    "def neural_net_keep_prob_input():\n",
    "    \"\"\"\n",
    "    Return a Tensor for keep probability\n",
    "    : return: Tensor for keep probability.\n",
    "    \"\"\"\n",
    "    # TODO: Implement Function\n",
    "    return tf.placeholder(tf.float32, name=\"keep_prob\")"
   ]
  },
  {
   "cell_type": "code",
   "execution_count": 5,
   "metadata": {
    "collapsed": false,
    "deletable": true,
    "editable": true
   },
   "outputs": [
    {
     "name": "stdout",
     "output_type": "stream",
     "text": [
      "Image Input Tests Passed.\n",
      "Label Input Tests Passed.\n",
      "Keep Prob Tests Passed.\n"
     ]
    }
   ],
   "source": [
    "\"\"\"\n",
    "DON'T MODIFY ANYTHING IN THIS CELL THAT IS BELOW THIS LINE\n",
    "\"\"\"\n",
    "tf.reset_default_graph()\n",
    "tests.test_nn_image_inputs(neural_net_image_input)\n",
    "tests.test_nn_label_inputs(neural_net_label_input)\n",
    "tests.test_nn_keep_prob_inputs(neural_net_keep_prob_input)"
   ]
  },
  {
   "cell_type": "markdown",
   "metadata": {
    "deletable": true,
    "editable": true
   },
   "source": [
    "### Convolution and Max Pooling Layer\n",
    "Convolution layers have a lot of success with images. For this code cell, you should implement the function `conv2d_maxpool` to apply convolution then max pooling:\n",
    "* Create the weight and bias using `conv_ksize`, `conv_num_outputs` and the shape of `x_tensor`.\n",
    "* Apply a convolution to `x_tensor` using weight and `conv_strides`.\n",
    " * We recommend you use same padding, but you're welcome to use any padding.\n",
    "* Add bias\n",
    "* Add a nonlinear activation to the convolution.\n",
    "* Apply Max Pooling using `pool_ksize` and `pool_strides`.\n",
    " * We recommend you use same padding, but you're welcome to use any padding.\n",
    "\n",
    "**Note:** You **can't** use [TensorFlow Layers](https://www.tensorflow.org/api_docs/python/tf/layers) or [TensorFlow Layers (contrib)](https://www.tensorflow.org/api_guides/python/contrib.layers) for **this** layer, but you can still use TensorFlow's [Neural Network](https://www.tensorflow.org/api_docs/python/tf/nn) package. You may still use the shortcut option for all the **other** layers."
   ]
  },
  {
   "cell_type": "code",
   "execution_count": 6,
   "metadata": {
    "collapsed": true
   },
   "outputs": [],
   "source": [
    "epsilon = 1e-3"
   ]
  },
  {
   "cell_type": "code",
   "execution_count": 7,
   "metadata": {
    "collapsed": true,
    "deletable": true,
    "editable": true
   },
   "outputs": [],
   "source": [
    "def conv2d_maxpool(x_tensor, conv_num_outputs, conv_ksize, conv_strides, pool_ksize, pool_strides):\n",
    "    \"\"\"\n",
    "    Apply convolution then max pooling to x_tensor\n",
    "    :param x_tensor: TensorFlow Tensor\n",
    "    :param conv_num_outputs: Number of outputs for the convolutional layer\n",
    "    :param conv_ksize: kernal size 2-D Tuple for the convolutional layer\n",
    "    :param conv_strides: Stride 2-D Tuple for convolution\n",
    "    :param pool_ksize: kernal size 2-D Tuple for pool\n",
    "    :param pool_strides: Stride 2-D Tuple for pool\n",
    "    : return: A tensor that represents convolution and max pooling of x_tensor\n",
    "    \"\"\"\n",
    "    # TODO: Implement Function\n",
    "    \n",
    "    filter_weights = tf.Variable(tf.truncated_normal([conv_ksize[0], conv_ksize[1], x_tensor.get_shape().as_list()[3], conv_num_outputs],stddev=0.05)) # (height, width, input_depth, output_depth)\n",
    "    filter_bias = tf.Variable(tf.zeros(conv_num_outputs))\n",
    "    \n",
    "    conv = tf.nn.conv2d(x_tensor, filter_weights, strides=[1,conv_strides[0], conv_strides[1], 1], padding = \"SAME\")\n",
    "    \n",
    "    conv = tf.nn.bias_add(conv, filter_bias)\n",
    "    \n",
    "    conv = tf.nn.relu(conv)\n",
    "    \n",
    "    '''\n",
    "    # Batch normalisation\n",
    "    batch_mean, batch_var = tf.nn.moments(conv,[0])\n",
    "    scale = tf.Variable(tf.ones([conv_num_outputs]))\n",
    "    beta = tf.Variable(tf.zeros([conv_num_outputs]))\n",
    "    conv = tf.nn.batch_normalization(conv,batch_mean,batch_var,beta,scale,epsilon)\n",
    "    '''\n",
    "    \n",
    "    return tf.nn.max_pool(conv, ksize=[1, pool_ksize[0], pool_ksize[1], 1], strides=[1, pool_strides[0], pool_strides[1], 1], padding='SAME')"
   ]
  },
  {
   "cell_type": "code",
   "execution_count": 8,
   "metadata": {
    "collapsed": false,
    "deletable": true,
    "editable": true
   },
   "outputs": [
    {
     "name": "stdout",
     "output_type": "stream",
     "text": [
      "Tests Passed\n"
     ]
    }
   ],
   "source": [
    "\"\"\"\n",
    "DON'T MODIFY ANYTHING IN THIS CELL THAT IS BELOW THIS LINE\n",
    "\"\"\"\n",
    "tests.test_con_pool(conv2d_maxpool)"
   ]
  },
  {
   "cell_type": "markdown",
   "metadata": {
    "deletable": true,
    "editable": true
   },
   "source": [
    "### Flatten Layer\n",
    "Implement the `flatten` function to change the dimension of `x_tensor` from a 4-D tensor to a 2-D tensor.  The output should be the shape (*Batch Size*, *Flattened Image Size*). Shortcut option: you can use classes from the [TensorFlow Layers](https://www.tensorflow.org/api_docs/python/tf/layers) or [TensorFlow Layers (contrib)](https://www.tensorflow.org/api_guides/python/contrib.layers) packages for this layer. For more of a challenge, only use other TensorFlow packages."
   ]
  },
  {
   "cell_type": "code",
   "execution_count": 9,
   "metadata": {
    "collapsed": true,
    "deletable": true,
    "editable": true
   },
   "outputs": [],
   "source": [
    "import numpy as np\n",
    "def flatten(x_tensor):\n",
    "    \"\"\"\n",
    "    Flatten x_tensor to (Batch Size, Flattened Image Size)\n",
    "    : x_tensor: A tensor of size (Batch Size, ...), where ... are the image dimensions.\n",
    "    : return: A tensor of size (Batch Size, Flattened Image Size).\n",
    "    \"\"\"\n",
    "    # TODO: Implement Function\n",
    "    shape = x_tensor.get_shape().as_list()\n",
    "    dim = np.prod(shape[1:])\n",
    "    return tf.reshape(x_tensor, [-1, dim])"
   ]
  },
  {
   "cell_type": "code",
   "execution_count": 10,
   "metadata": {
    "collapsed": false,
    "deletable": true,
    "editable": true
   },
   "outputs": [
    {
     "name": "stdout",
     "output_type": "stream",
     "text": [
      "Tests Passed\n"
     ]
    }
   ],
   "source": [
    "\"\"\"\n",
    "DON'T MODIFY ANYTHING IN THIS CELL THAT IS BELOW THIS LINE\n",
    "\"\"\"\n",
    "tests.test_flatten(flatten)"
   ]
  },
  {
   "cell_type": "markdown",
   "metadata": {
    "deletable": true,
    "editable": true
   },
   "source": [
    "### Fully-Connected Layer\n",
    "Implement the `fully_conn` function to apply a fully connected layer to `x_tensor` with the shape (*Batch Size*, *num_outputs*). Shortcut option: you can use classes from the [TensorFlow Layers](https://www.tensorflow.org/api_docs/python/tf/layers) or [TensorFlow Layers (contrib)](https://www.tensorflow.org/api_guides/python/contrib.layers) packages for this layer. For more of a challenge, only use other TensorFlow packages."
   ]
  },
  {
   "cell_type": "code",
   "execution_count": 11,
   "metadata": {
    "collapsed": true,
    "deletable": true,
    "editable": true
   },
   "outputs": [],
   "source": [
    "def fully_conn(x_tensor, num_outputs):\n",
    "    \"\"\"\n",
    "    Apply a fully connected layer to x_tensor using weight and bias\n",
    "    : x_tensor: A 2-D tensor where the first dimension is batch size.\n",
    "    : num_outputs: The number of output that the new tensor should be.\n",
    "    : return: A 2-D tensor where the second dimension is num_outputs.\n",
    "    \"\"\"\n",
    "    # TODO: Implement Function\n",
    "    weight = tf.Variable(tf.truncated_normal([x_tensor.get_shape().as_list()[1], num_outputs],stddev=0.05))\n",
    "    bias = tf.Variable(tf.zeros(num_outputs))\n",
    "    \n",
    "    return tf.nn.relu(tf.add(tf.matmul(x_tensor, weight), bias))"
   ]
  },
  {
   "cell_type": "code",
   "execution_count": 12,
   "metadata": {
    "collapsed": false,
    "deletable": true,
    "editable": true
   },
   "outputs": [
    {
     "name": "stdout",
     "output_type": "stream",
     "text": [
      "Tests Passed\n"
     ]
    }
   ],
   "source": [
    "\"\"\"\n",
    "DON'T MODIFY ANYTHING IN THIS CELL THAT IS BELOW THIS LINE\n",
    "\"\"\"\n",
    "tests.test_fully_conn(fully_conn)"
   ]
  },
  {
   "cell_type": "markdown",
   "metadata": {
    "deletable": true,
    "editable": true
   },
   "source": [
    "### Output Layer\n",
    "Implement the `output` function to apply a fully connected layer to `x_tensor` with the shape (*Batch Size*, *num_outputs*). Shortcut option: you can use classes from the [TensorFlow Layers](https://www.tensorflow.org/api_docs/python/tf/layers) or [TensorFlow Layers (contrib)](https://www.tensorflow.org/api_guides/python/contrib.layers) packages for this layer. For more of a challenge, only use other TensorFlow packages.\n",
    "\n",
    "**Note:** Activation, softmax, or cross entropy should **not** be applied to this."
   ]
  },
  {
   "cell_type": "code",
   "execution_count": 13,
   "metadata": {
    "collapsed": true,
    "deletable": true,
    "editable": true
   },
   "outputs": [],
   "source": [
    "def output(x_tensor, num_outputs):\n",
    "    \"\"\"\n",
    "    Apply a output layer to x_tensor using weight and bias\n",
    "    : x_tensor: A 2-D tensor where the first dimension is batch size.\n",
    "    : num_outputs: The number of output that the new tensor should be.\n",
    "    : return: A 2-D tensor where the second dimension is num_outputs.\n",
    "    \"\"\"\n",
    "    # TODO: Implement Function\n",
    "    weight = tf.Variable(tf.truncated_normal([x_tensor.get_shape().as_list()[1], num_outputs],stddev=0.05))\n",
    "    bias = tf.Variable(tf.zeros(num_outputs))\n",
    "    \n",
    "    return tf.add(tf.matmul(x_tensor, weight), bias)"
   ]
  },
  {
   "cell_type": "code",
   "execution_count": 14,
   "metadata": {
    "collapsed": false,
    "deletable": true,
    "editable": true
   },
   "outputs": [
    {
     "name": "stdout",
     "output_type": "stream",
     "text": [
      "Tests Passed\n"
     ]
    }
   ],
   "source": [
    "\"\"\"\n",
    "DON'T MODIFY ANYTHING IN THIS CELL THAT IS BELOW THIS LINE\n",
    "\"\"\"\n",
    "tests.test_output(output)"
   ]
  },
  {
   "cell_type": "markdown",
   "metadata": {
    "deletable": true,
    "editable": true
   },
   "source": [
    "### Create Convolutional Model\n",
    "Implement the function `conv_net` to create a convolutional neural network model. The function takes in a batch of images, `x`, and outputs logits.  Use the layers you created above to create this model:\n",
    "\n",
    "* Apply 1, 2, or 3 Convolution and Max Pool layers\n",
    "* Apply a Flatten Layer\n",
    "* Apply 1, 2, or 3 Fully Connected Layers\n",
    "* Apply an Output Layer\n",
    "* Return the output\n",
    "* Apply [TensorFlow's Dropout](https://www.tensorflow.org/api_docs/python/tf/nn/dropout) to one or more layers in the model using `keep_prob`. "
   ]
  },
  {
   "cell_type": "code",
   "execution_count": 15,
   "metadata": {
    "collapsed": true,
    "deletable": true,
    "editable": true
   },
   "outputs": [],
   "source": [
    "def conv_net(x, keep_prob):\n",
    "    \"\"\"\n",
    "    Create a convolutional neural network model\n",
    "    : x: Placeholder tensor that holds image data.\n",
    "    : keep_prob: Placeholder tensor that hold dropout keep probability.\n",
    "    : return: Tensor that represents logits\n",
    "    \"\"\"\n",
    "    # TODO: Apply 1, 2, or 3 Convolution and Max Pool layers\n",
    "    #    Play around with different number of outputs, kernel size and stride\n",
    "    # Function Definition from Above:\n",
    "    #    conv2d_maxpool(x_tensor, conv_num_outputs, conv_ksize, conv_strides, pool_ksize, pool_strides)\n",
    "    \n",
    "    conv1 = conv2d_maxpool(x, 32, ((3,3)),((2,2)),((2,2)), ((2,2)))\n",
    "    conv2 = conv2d_maxpool(conv1, 64, ((3,3)),((1,1)),((2,2)), ((2,2)))\n",
    "    conv3 = conv2d_maxpool(conv2, 128, ((3,3)),((1,1)),((2,2)), ((1,1)))\n",
    "    \n",
    "    # TODO: Apply a Flatten Layer\n",
    "    # Function Definition from Above:\n",
    "    #   flatten(x_tensor)\n",
    "    fc1 = flatten(conv3)\n",
    "\n",
    "    # TODO: Apply 1, 2, or 3 Fully Connected Layers\n",
    "    #    Play around with different number of outputs\n",
    "    # Function Definition from Above:\n",
    "    #   fully_conn(x_tensor, num_outputs)\n",
    "    \n",
    "    fc1 = fully_conn(fc1 ,200)\n",
    "    fc1 = tf.nn.dropout(fc1, keep_prob)\n",
    "    fc2 = fully_conn(fc1,75)\n",
    "        \n",
    "    # TODO: Apply an Output Layer\n",
    "    #    Set this to the number of classes\n",
    "    # Function Definition from Above:\n",
    "    #   output(x_tensor, num_outputs)\n",
    "    \n",
    "    out = output(fc2,10)\n",
    "    \n",
    "    \n",
    "    # TODO: return output\n",
    "    return out"
   ]
  },
  {
   "cell_type": "code",
   "execution_count": 16,
   "metadata": {
    "collapsed": false,
    "deletable": true,
    "editable": true
   },
   "outputs": [],
   "source": [
    "\"\"\"\n",
    "DON'T MODIFY ANYTHING IN THIS CELL THAT IS BELOW THIS LINE\n",
    "\"\"\"\n",
    "\n",
    "##############################\n",
    "## Build the Neural Network ##\n",
    "##############################\n",
    "\n",
    "# Remove previous weights, bias, inputs, etc..\n",
    "tf.reset_default_graph()\n",
    "\n",
    "# Inputs\n",
    "x = neural_net_image_input((32, 32, 3))\n",
    "y = neural_net_label_input(10)\n",
    "keep_prob = neural_net_keep_prob_input()\n",
    "\n",
    "# Model\n",
    "logits = conv_net(x, keep_prob)\n",
    "\n",
    "# Name logits Tensor, so that is can be loaded from disk after training\n",
    "logits = tf.identity(logits, name='logits')\n",
    "\n",
    "# Loss and Optimizer\n",
    "cost = tf.reduce_mean(tf.nn.softmax_cross_entropy_with_logits(logits=logits, labels=y))\n",
    "optimizer = tf.train.AdamOptimizer().minimize(cost)\n",
    "\n",
    "# Accuracy\n",
    "correct_pred = tf.equal(tf.argmax(logits, 1), tf.argmax(y, 1))\n",
    "accuracy = tf.reduce_mean(tf.cast(correct_pred, tf.float32), name='accuracy')"
   ]
  },
  {
   "cell_type": "code",
   "execution_count": 17,
   "metadata": {
    "collapsed": false,
    "deletable": true,
    "editable": true
   },
   "outputs": [
    {
     "name": "stdout",
     "output_type": "stream",
     "text": [
      "Neural Network Built!\n"
     ]
    }
   ],
   "source": [
    "tests.test_conv_net(conv_net)"
   ]
  },
  {
   "cell_type": "markdown",
   "metadata": {
    "deletable": true,
    "editable": true
   },
   "source": [
    "## Train the Neural Network\n",
    "### Single Optimization\n",
    "Implement the function `train_neural_network` to do a single optimization.  The optimization should use `optimizer` to optimize in `session` with a `feed_dict` of the following:\n",
    "* `x` for image input\n",
    "* `y` for labels\n",
    "* `keep_prob` for keep probability for dropout\n",
    "\n",
    "This function will be called for each batch, so `tf.global_variables_initializer()` has already been called.\n",
    "\n",
    "Note: Nothing needs to be returned. This function is only optimizing the neural network."
   ]
  },
  {
   "cell_type": "code",
   "execution_count": 18,
   "metadata": {
    "collapsed": true,
    "deletable": true,
    "editable": true
   },
   "outputs": [],
   "source": [
    "def train_neural_network(session, optimizer, keep_probability, feature_batch, label_batch):\n",
    "    \"\"\"\n",
    "    Optimize the session on a batch of images and labels\n",
    "    : session: Current TensorFlow session\n",
    "    : optimizer: TensorFlow optimizer function\n",
    "    : keep_probability: keep probability\n",
    "    : feature_batch: Batch of Numpy image data\n",
    "    : label_batch: Batch of Numpy label data\n",
    "    \"\"\"\n",
    "    # TODO: Implement Function\n",
    "    session.run(optimizer, feed_dict={ x: feature_batch, y: label_batch, keep_prob: keep_probability})"
   ]
  },
  {
   "cell_type": "code",
   "execution_count": 19,
   "metadata": {
    "collapsed": false,
    "deletable": true,
    "editable": true
   },
   "outputs": [
    {
     "name": "stdout",
     "output_type": "stream",
     "text": [
      "Tests Passed\n"
     ]
    }
   ],
   "source": [
    "\"\"\"\n",
    "DON'T MODIFY ANYTHING IN THIS CELL THAT IS BELOW THIS LINE\n",
    "\"\"\"\n",
    "tests.test_train_nn(train_neural_network)"
   ]
  },
  {
   "cell_type": "markdown",
   "metadata": {
    "deletable": true,
    "editable": true
   },
   "source": [
    "### Show Stats\n",
    "Implement the function `print_stats` to print loss and validation accuracy.  Use the global variables `valid_features` and `valid_labels` to calculate validation accuracy.  Use a keep probability of `1.0` to calculate the loss and validation accuracy."
   ]
  },
  {
   "cell_type": "code",
   "execution_count": 20,
   "metadata": {
    "collapsed": true
   },
   "outputs": [],
   "source": [
    "accuracy_loss = {'train':[], 'validation':[]}"
   ]
  },
  {
   "cell_type": "code",
   "execution_count": 21,
   "metadata": {
    "collapsed": false,
    "deletable": true,
    "editable": true
   },
   "outputs": [],
   "source": [
    "def print_stats(session, feature_batch, label_batch, cost, accuracy):\n",
    "    \"\"\"\n",
    "    Print information about loss and validation accuracy\n",
    "    : session: Current TensorFlow session\n",
    "    : feature_batch: Batch of Numpy image data\n",
    "    : label_batch: Batch of Numpy label data\n",
    "    : cost: TensorFlow cost function\n",
    "    : accuracy: TensorFlow accuracy function\n",
    "    \"\"\"\n",
    "    # TODO: Implement Function\n",
    "    loss = session.run(cost, feed_dict={ x: feature_batch, y: label_batch, keep_prob: 1.0})\n",
    "    train_acc = session.run(accuracy, feed_dict={ x:feature_batch, y: label_batch, keep_prob: 1.0})\n",
    "    valid_acc = session.run(accuracy, feed_dict={ x: valid_features, y: valid_labels, keep_prob: 1.0})\n",
    "    print('Loss: {0} Validation_acc: {1}'.format(loss, valid_acc))\n",
    "    \n",
    "    accuracy_loss['train'].append(train_acc)\n",
    "    accuracy_loss['validation'].append(valid_acc)"
   ]
  },
  {
   "cell_type": "markdown",
   "metadata": {
    "deletable": true,
    "editable": true
   },
   "source": [
    "### Hyperparameters\n",
    "Tune the following parameters:\n",
    "* Set `epochs` to the number of iterations until the network stops learning or start overfitting\n",
    "* Set `batch_size` to the highest number that your machine has memory for.  Most people set them to common sizes of memory:\n",
    " * 64\n",
    " * 128\n",
    " * 256\n",
    " * ...\n",
    "* Set `keep_probability` to the probability of keeping a node using dropout"
   ]
  },
  {
   "cell_type": "code",
   "execution_count": 22,
   "metadata": {
    "collapsed": true,
    "deletable": true,
    "editable": true
   },
   "outputs": [],
   "source": [
    "# TODO: Tune Parameters\n",
    "epochs = 60\n",
    "batch_size = 128\n",
    "keep_probability = 0.5"
   ]
  },
  {
   "cell_type": "markdown",
   "metadata": {
    "deletable": true,
    "editable": true
   },
   "source": [
    "### Train on a Single CIFAR-10 Batch\n",
    "Instead of training the neural network on all the CIFAR-10 batches of data, let's use a single batch. This should save time while you iterate on the model to get a better accuracy.  Once the final validation accuracy is 50% or greater, run the model on all the data in the next section."
   ]
  },
  {
   "cell_type": "code",
   "execution_count": 23,
   "metadata": {
    "collapsed": false,
    "deletable": true,
    "editable": true
   },
   "outputs": [
    {
     "name": "stdout",
     "output_type": "stream",
     "text": [
      "Checking the Training on a Single Batch...\n",
      "Epoch  1, CIFAR-10 Batch 1:  Loss: 2.205850601196289 Validation_acc: 0.25440001487731934\n",
      "Epoch  2, CIFAR-10 Batch 1:  Loss: 2.0631864070892334 Validation_acc: 0.34860000014305115\n",
      "Epoch  3, CIFAR-10 Batch 1:  Loss: 1.9108107089996338 Validation_acc: 0.3882000148296356\n",
      "Epoch  4, CIFAR-10 Batch 1:  Loss: 1.7817132472991943 Validation_acc: 0.4189999997615814\n",
      "Epoch  5, CIFAR-10 Batch 1:  Loss: 1.7002878189086914 Validation_acc: 0.4449999928474426\n",
      "Epoch  6, CIFAR-10 Batch 1:  Loss: 1.5965843200683594 Validation_acc: 0.4668000042438507\n",
      "Epoch  7, CIFAR-10 Batch 1:  Loss: 1.4224940538406372 Validation_acc: 0.4779999852180481\n",
      "Epoch  8, CIFAR-10 Batch 1:  Loss: 1.3353029489517212 Validation_acc: 0.48840001225471497\n",
      "Epoch  9, CIFAR-10 Batch 1:  Loss: 1.2534974813461304 Validation_acc: 0.4986000061035156\n",
      "Epoch 10, CIFAR-10 Batch 1:  Loss: 1.1622580289840698 Validation_acc: 0.5157999992370605\n",
      "Epoch 11, CIFAR-10 Batch 1:  Loss: 1.0305182933807373 Validation_acc: 0.5194000005722046\n",
      "Epoch 12, CIFAR-10 Batch 1:  Loss: 0.9088696241378784 Validation_acc: 0.5353999733924866\n",
      "Epoch 13, CIFAR-10 Batch 1:  Loss: 0.9224699139595032 Validation_acc: 0.5152000188827515\n",
      "Epoch 14, CIFAR-10 Batch 1:  Loss: 0.8667653799057007 Validation_acc: 0.5067999958992004\n",
      "Epoch 15, CIFAR-10 Batch 1:  Loss: 0.7701629400253296 Validation_acc: 0.5368000268936157\n",
      "Epoch 16, CIFAR-10 Batch 1:  Loss: 0.709517240524292 Validation_acc: 0.5407999753952026\n",
      "Epoch 17, CIFAR-10 Batch 1:  Loss: 0.6657447218894958 Validation_acc: 0.5429999828338623\n",
      "Epoch 18, CIFAR-10 Batch 1:  Loss: 0.5842440724372864 Validation_acc: 0.5878000259399414\n",
      "Epoch 19, CIFAR-10 Batch 1:  Loss: 0.6287589073181152 Validation_acc: 0.5658000111579895\n",
      "Epoch 20, CIFAR-10 Batch 1:  Loss: 0.5017811059951782 Validation_acc: 0.5839999914169312\n",
      "Epoch 21, CIFAR-10 Batch 1:  Loss: 0.4709332585334778 Validation_acc: 0.5605999827384949\n",
      "Epoch 22, CIFAR-10 Batch 1:  Loss: 0.44146472215652466 Validation_acc: 0.567799985408783\n",
      "Epoch 23, CIFAR-10 Batch 1:  Loss: 0.34285232424736023 Validation_acc: 0.5789999961853027\n",
      "Epoch 24, CIFAR-10 Batch 1:  Loss: 0.31832385063171387 Validation_acc: 0.5759999752044678\n",
      "Epoch 25, CIFAR-10 Batch 1:  Loss: 0.2696591317653656 Validation_acc: 0.5777999758720398\n",
      "Epoch 26, CIFAR-10 Batch 1:  Loss: 0.24915628135204315 Validation_acc: 0.5785999894142151\n",
      "Epoch 27, CIFAR-10 Batch 1:  Loss: 0.21895141899585724 Validation_acc: 0.567799985408783\n",
      "Epoch 28, CIFAR-10 Batch 1:  Loss: 0.2625870704650879 Validation_acc: 0.5529999732971191\n",
      "Epoch 29, CIFAR-10 Batch 1:  Loss: 0.21015000343322754 Validation_acc: 0.550000011920929\n",
      "Epoch 30, CIFAR-10 Batch 1:  Loss: 0.16627565026283264 Validation_acc: 0.557200014591217\n",
      "Epoch 31, CIFAR-10 Batch 1:  Loss: 0.138217031955719 Validation_acc: 0.5659999847412109\n",
      "Epoch 32, CIFAR-10 Batch 1:  Loss: 0.10693295300006866 Validation_acc: 0.5608000159263611\n",
      "Epoch 33, CIFAR-10 Batch 1:  Loss: 0.0621478445827961 Validation_acc: 0.5595999956130981\n",
      "Epoch 34, CIFAR-10 Batch 1:  Loss: 0.04808657988905907 Validation_acc: 0.5735999941825867\n",
      "Epoch 35, CIFAR-10 Batch 1:  Loss: 0.061077285557985306 Validation_acc: 0.5687999725341797\n",
      "Epoch 36, CIFAR-10 Batch 1:  Loss: 0.052024535834789276 Validation_acc: 0.5540000200271606\n",
      "Epoch 37, CIFAR-10 Batch 1:  Loss: 0.052376627922058105 Validation_acc: 0.5565999746322632\n",
      "Epoch 38, CIFAR-10 Batch 1:  Loss: 0.05639021843671799 Validation_acc: 0.567799985408783\n",
      "Epoch 39, CIFAR-10 Batch 1:  Loss: 0.05745851993560791 Validation_acc: 0.5527999997138977\n",
      "Epoch 40, CIFAR-10 Batch 1:  Loss: 0.037922509014606476 Validation_acc: 0.5547999739646912\n",
      "Epoch 41, CIFAR-10 Batch 1:  Loss: 0.032833438366651535 Validation_acc: 0.5407999753952026\n",
      "Epoch 42, CIFAR-10 Batch 1:  Loss: 0.018740668892860413 Validation_acc: 0.545799970626831\n",
      "Epoch 43, CIFAR-10 Batch 1:  Loss: 0.021363304927945137 Validation_acc: 0.551800012588501\n",
      "Epoch 44, CIFAR-10 Batch 1:  Loss: 0.01875106617808342 Validation_acc: 0.5645999908447266\n",
      "Epoch 45, CIFAR-10 Batch 1:  Loss: 0.016782546415925026 Validation_acc: 0.5544000267982483\n",
      "Epoch 46, CIFAR-10 Batch 1:  Loss: 0.012871826067566872 Validation_acc: 0.5626000165939331\n",
      "Epoch 47, CIFAR-10 Batch 1:  Loss: 0.00985005684196949 Validation_acc: 0.5673999786376953\n",
      "Epoch 48, CIFAR-10 Batch 1:  Loss: 0.018619680777192116 Validation_acc: 0.5576000213623047\n",
      "Epoch 49, CIFAR-10 Batch 1:  Loss: 0.01368699036538601 Validation_acc: 0.5565999746322632\n",
      "Epoch 50, CIFAR-10 Batch 1:  Loss: 0.013043791055679321 Validation_acc: 0.5694000124931335\n",
      "Epoch 51, CIFAR-10 Batch 1:  Loss: 0.0073228501714766026 Validation_acc: 0.5616000294685364\n",
      "Epoch 52, CIFAR-10 Batch 1:  Loss: 0.0069557600654661655 Validation_acc: 0.5644000172615051\n",
      "Epoch 53, CIFAR-10 Batch 1:  Loss: 0.0047783879563212395 Validation_acc: 0.5580000281333923\n",
      "Epoch 54, CIFAR-10 Batch 1:  Loss: 0.0022703229915350676 Validation_acc: 0.5540000200271606\n",
      "Epoch 55, CIFAR-10 Batch 1:  Loss: 0.0015347496373578906 Validation_acc: 0.5504000186920166\n",
      "Epoch 56, CIFAR-10 Batch 1:  Loss: 0.0016056038439273834 Validation_acc: 0.550000011920929\n",
      "Epoch 57, CIFAR-10 Batch 1:  Loss: 0.005555076524615288 Validation_acc: 0.553600013256073\n",
      "Epoch 58, CIFAR-10 Batch 1:  Loss: 0.002498095855116844 Validation_acc: 0.5663999915122986\n",
      "Epoch 59, CIFAR-10 Batch 1:  Loss: 0.0016518204938620329 Validation_acc: 0.557200014591217\n",
      "Epoch 60, CIFAR-10 Batch 1:  Loss: 0.0027481564320623875 Validation_acc: 0.5479999780654907\n"
     ]
    }
   ],
   "source": [
    "\"\"\"\n",
    "DON'T MODIFY ANYTHING IN THIS CELL\n",
    "\"\"\"\n",
    "print('Checking the Training on a Single Batch...')\n",
    "with tf.Session() as sess:\n",
    "    # Initializing the variables\n",
    "    sess.run(tf.global_variables_initializer())\n",
    "    \n",
    "    # Training cycle\n",
    "    for epoch in range(epochs):\n",
    "        batch_i = 1\n",
    "        for batch_features, batch_labels in helper.load_preprocess_training_batch(batch_i, batch_size):\n",
    "            train_neural_network(sess, optimizer, keep_probability, batch_features, batch_labels)\n",
    "        print('Epoch {:>2}, CIFAR-10 Batch {}:  '.format(epoch + 1, batch_i), end='')\n",
    "        print_stats(sess, batch_features, batch_labels, cost, accuracy)"
   ]
  },
  {
   "cell_type": "code",
   "execution_count": 24,
   "metadata": {
    "collapsed": true
   },
   "outputs": [],
   "source": [
    "%matplotlib inline\n",
    "%config InlineBackend.figure_format = 'retina'\n",
    "import matplotlib.pyplot as plt"
   ]
  },
  {
   "cell_type": "code",
   "execution_count": 25,
   "metadata": {
    "collapsed": false
   },
   "outputs": [
    {
     "data": {
      "text/plain": [
       "(0.16000000312924384, 1)"
      ]
     },
     "execution_count": 25,
     "metadata": {},
     "output_type": "execute_result"
    },
    {
     "data": {
      "image/png": "[encoded data removed]",
      "text/plain": [
       "<matplotlib.figure.Figure at 0x7f2160719780>"
      ]
     },
     "metadata": {
      "image/png": {
       "height": 252,
       "width": 373
      }
     },
     "output_type": "display_data"
    }
   ],
   "source": [
    "plt.plot(accuracy_loss['train'], label='Training Accuracy')\n",
    "plt.plot(accuracy_loss['validation'], label='Validation Accuracy')\n",
    "plt.legend()\n",
    "plt.ylim(ymax=1)"
   ]
  },
  {
   "cell_type": "markdown",
   "metadata": {
    "deletable": true,
    "editable": true
   },
   "source": [
    "### Fully Train the Model\n",
    "Now that you got a good accuracy with a single CIFAR-10 batch, try it with all five batches."
   ]
  },
  {
   "cell_type": "code",
   "execution_count": 26,
   "metadata": {
    "collapsed": false,
    "deletable": true,
    "editable": true
   },
   "outputs": [
    {
     "name": "stdout",
     "output_type": "stream",
     "text": [
      "Training...\n",
      "Epoch  1, CIFAR-10 Batch 1:  Loss: 2.2046499252319336 Validation_acc: 0.20319999754428864\n",
      "Epoch  1, CIFAR-10 Batch 2:  Loss: 1.9038512706756592 Validation_acc: 0.2953999936580658\n",
      "Epoch  1, CIFAR-10 Batch 3:  Loss: 1.6331058740615845 Validation_acc: 0.3301999866962433\n",
      "Epoch  1, CIFAR-10 Batch 4:  Loss: 1.656836748123169 Validation_acc: 0.39559999108314514\n",
      "Epoch  1, CIFAR-10 Batch 5:  Loss: 1.6227741241455078 Validation_acc: 0.41600000858306885\n",
      "Epoch  2, CIFAR-10 Batch 1:  Loss: 1.7766411304473877 Validation_acc: 0.4537999927997589\n",
      "Epoch  2, CIFAR-10 Batch 2:  Loss: 1.5476658344268799 Validation_acc: 0.41600000858306885\n",
      "Epoch  2, CIFAR-10 Batch 3:  Loss: 1.1888669729232788 Validation_acc: 0.4708000123500824\n",
      "Epoch  2, CIFAR-10 Batch 4:  Loss: 1.4569509029388428 Validation_acc: 0.5\n",
      "Epoch  2, CIFAR-10 Batch 5:  Loss: 1.4518829584121704 Validation_acc: 0.5080000162124634\n",
      "Epoch  3, CIFAR-10 Batch 1:  Loss: 1.5052608251571655 Validation_acc: 0.5257999897003174\n",
      "Epoch  3, CIFAR-10 Batch 2:  Loss: 1.3022346496582031 Validation_acc: 0.5180000066757202\n",
      "Epoch  3, CIFAR-10 Batch 3:  Loss: 1.0597056150436401 Validation_acc: 0.5325999855995178\n",
      "Epoch  3, CIFAR-10 Batch 4:  Loss: 1.2390470504760742 Validation_acc: 0.545799970626831\n",
      "Epoch  3, CIFAR-10 Batch 5:  Loss: 1.198513388633728 Validation_acc: 0.567799985408783\n",
      "Epoch  4, CIFAR-10 Batch 1:  Loss: 1.361132025718689 Validation_acc: 0.5550000071525574\n",
      "Epoch  4, CIFAR-10 Batch 2:  Loss: 1.0772606134414673 Validation_acc: 0.5514000058174133\n",
      "Epoch  4, CIFAR-10 Batch 3:  Loss: 0.8786618113517761 Validation_acc: 0.5591999888420105\n",
      "Epoch  4, CIFAR-10 Batch 4:  Loss: 1.0859076976776123 Validation_acc: 0.5752000212669373\n",
      "Epoch  4, CIFAR-10 Batch 5:  Loss: 1.0077974796295166 Validation_acc: 0.5950000286102295\n",
      "Epoch  5, CIFAR-10 Batch 1:  Loss: 1.152440071105957 Validation_acc: 0.5866000056266785\n",
      "Epoch  5, CIFAR-10 Batch 2:  Loss: 0.9694254994392395 Validation_acc: 0.5888000130653381\n",
      "Epoch  5, CIFAR-10 Batch 3:  Loss: 0.6728861927986145 Validation_acc: 0.6003999710083008\n",
      "Epoch  5, CIFAR-10 Batch 4:  Loss: 0.9519052505493164 Validation_acc: 0.6172000169754028\n",
      "Epoch  5, CIFAR-10 Batch 5:  Loss: 0.860554039478302 Validation_acc: 0.6187999844551086\n",
      "Epoch  6, CIFAR-10 Batch 1:  Loss: 1.0404618978500366 Validation_acc: 0.6208000183105469\n",
      "Epoch  6, CIFAR-10 Batch 2:  Loss: 0.8402851223945618 Validation_acc: 0.6140000224113464\n",
      "Epoch  6, CIFAR-10 Batch 3:  Loss: 0.5892789363861084 Validation_acc: 0.626800000667572\n",
      "Epoch  6, CIFAR-10 Batch 4:  Loss: 0.7844721078872681 Validation_acc: 0.6425999999046326\n",
      "Epoch  6, CIFAR-10 Batch 5:  Loss: 0.7159031629562378 Validation_acc: 0.6412000060081482\n",
      "Epoch  7, CIFAR-10 Batch 1:  Loss: 0.8498107194900513 Validation_acc: 0.6179999709129333\n",
      "Epoch  7, CIFAR-10 Batch 2:  Loss: 0.6599422693252563 Validation_acc: 0.6481999754905701\n",
      "Epoch  7, CIFAR-10 Batch 3:  Loss: 0.4665977358818054 Validation_acc: 0.649399995803833\n",
      "Epoch  7, CIFAR-10 Batch 4:  Loss: 0.695038914680481 Validation_acc: 0.6520000100135803\n",
      "Epoch  7, CIFAR-10 Batch 5:  Loss: 0.6590240597724915 Validation_acc: 0.6444000005722046\n",
      "Epoch  8, CIFAR-10 Batch 1:  Loss: 0.6987009644508362 Validation_acc: 0.6395999789237976\n",
      "Epoch  8, CIFAR-10 Batch 2:  Loss: 0.6101969480514526 Validation_acc: 0.6603999733924866\n",
      "Epoch  8, CIFAR-10 Batch 3:  Loss: 0.3878283202648163 Validation_acc: 0.6484000086784363\n",
      "Epoch  8, CIFAR-10 Batch 4:  Loss: 0.5886134505271912 Validation_acc: 0.6654000282287598\n",
      "Epoch  8, CIFAR-10 Batch 5:  Loss: 0.5642326474189758 Validation_acc: 0.6478000283241272\n",
      "Epoch  9, CIFAR-10 Batch 1:  Loss: 0.6391345262527466 Validation_acc: 0.6543999910354614\n",
      "Epoch  9, CIFAR-10 Batch 2:  Loss: 0.4851694107055664 Validation_acc: 0.6528000235557556\n",
      "Epoch  9, CIFAR-10 Batch 3:  Loss: 0.37131574749946594 Validation_acc: 0.6741999983787537\n",
      "Epoch  9, CIFAR-10 Batch 4:  Loss: 0.5266292691230774 Validation_acc: 0.670799970626831\n",
      "Epoch  9, CIFAR-10 Batch 5:  Loss: 0.4725881516933441 Validation_acc: 0.6412000060081482\n",
      "Epoch 10, CIFAR-10 Batch 1:  Loss: 0.5892480611801147 Validation_acc: 0.6686000227928162\n",
      "Epoch 10, CIFAR-10 Batch 2:  Loss: 0.4688512682914734 Validation_acc: 0.6611999869346619\n",
      "Epoch 10, CIFAR-10 Batch 3:  Loss: 0.32378628849983215 Validation_acc: 0.6729999780654907\n",
      "Epoch 10, CIFAR-10 Batch 4:  Loss: 0.4774699807167053 Validation_acc: 0.6823999881744385\n",
      "Epoch 10, CIFAR-10 Batch 5:  Loss: 0.3575468957424164 Validation_acc: 0.6679999828338623\n",
      "Epoch 11, CIFAR-10 Batch 1:  Loss: 0.47192662954330444 Validation_acc: 0.6697999835014343\n",
      "Epoch 11, CIFAR-10 Batch 2:  Loss: 0.3913111686706543 Validation_acc: 0.6743999719619751\n",
      "Epoch 11, CIFAR-10 Batch 3:  Loss: 0.30671003460884094 Validation_acc: 0.6827999949455261\n",
      "Epoch 11, CIFAR-10 Batch 4:  Loss: 0.4662892818450928 Validation_acc: 0.651199996471405\n",
      "Epoch 11, CIFAR-10 Batch 5:  Loss: 0.40823259949684143 Validation_acc: 0.6686000227928162\n",
      "Epoch 12, CIFAR-10 Batch 1:  Loss: 0.5277177095413208 Validation_acc: 0.6679999828338623\n",
      "Epoch 12, CIFAR-10 Batch 2:  Loss: 0.36688488721847534 Validation_acc: 0.6830000281333923\n",
      "Epoch 12, CIFAR-10 Batch 3:  Loss: 0.2620917856693268 Validation_acc: 0.6675999760627747\n",
      "Epoch 12, CIFAR-10 Batch 4:  Loss: 0.35544800758361816 Validation_acc: 0.6758000254631042\n",
      "Epoch 12, CIFAR-10 Batch 5:  Loss: 0.3286657929420471 Validation_acc: 0.6651999950408936\n",
      "Epoch 13, CIFAR-10 Batch 1:  Loss: 0.46062707901000977 Validation_acc: 0.6759999990463257\n",
      "Epoch 13, CIFAR-10 Batch 2:  Loss: 0.33547940850257874 Validation_acc: 0.6909999847412109\n",
      "Epoch 13, CIFAR-10 Batch 3:  Loss: 0.21176178753376007 Validation_acc: 0.6672000288963318\n",
      "Epoch 13, CIFAR-10 Batch 4:  Loss: 0.28882521390914917 Validation_acc: 0.6841999888420105\n",
      "Epoch 13, CIFAR-10 Batch 5:  Loss: 0.25859764218330383 Validation_acc: 0.6592000126838684\n",
      "Epoch 14, CIFAR-10 Batch 1:  Loss: 0.380665123462677 Validation_acc: 0.6790000200271606\n",
      "Epoch 14, CIFAR-10 Batch 2:  Loss: 0.2703695297241211 Validation_acc: 0.6808000206947327\n",
      "Epoch 14, CIFAR-10 Batch 3:  Loss: 0.2057027369737625 Validation_acc: 0.6880000233650208\n",
      "Epoch 14, CIFAR-10 Batch 4:  Loss: 0.2688416540622711 Validation_acc: 0.6840000152587891\n",
      "Epoch 14, CIFAR-10 Batch 5:  Loss: 0.21630211174488068 Validation_acc: 0.6711999773979187\n",
      "Epoch 15, CIFAR-10 Batch 1:  Loss: 0.3109700083732605 Validation_acc: 0.6827999949455261\n",
      "Epoch 15, CIFAR-10 Batch 2:  Loss: 0.18957963585853577 Validation_acc: 0.6761999726295471\n",
      "Epoch 15, CIFAR-10 Batch 3:  Loss: 0.18132176995277405 Validation_acc: 0.6844000220298767\n",
      "Epoch 15, CIFAR-10 Batch 4:  Loss: 0.23823022842407227 Validation_acc: 0.6812000274658203\n",
      "Epoch 15, CIFAR-10 Batch 5:  Loss: 0.160303995013237 Validation_acc: 0.6639999747276306\n",
      "Epoch 16, CIFAR-10 Batch 1:  Loss: 0.2507840692996979 Validation_acc: 0.6894000172615051\n",
      "Epoch 16, CIFAR-10 Batch 2:  Loss: 0.1933930218219757 Validation_acc: 0.6827999949455261\n",
      "Epoch 16, CIFAR-10 Batch 3:  Loss: 0.16639336943626404 Validation_acc: 0.673799991607666\n",
      "Epoch 16, CIFAR-10 Batch 4:  Loss: 0.22412362694740295 Validation_acc: 0.6832000017166138\n",
      "Epoch 16, CIFAR-10 Batch 5:  Loss: 0.11526825278997421 Validation_acc: 0.6761999726295471\n",
      "Epoch 17, CIFAR-10 Batch 1:  Loss: 0.24333199858665466 Validation_acc: 0.6859999895095825\n",
      "Epoch 17, CIFAR-10 Batch 2:  Loss: 0.15143200755119324 Validation_acc: 0.6941999793052673\n",
      "Epoch 17, CIFAR-10 Batch 3:  Loss: 0.12856817245483398 Validation_acc: 0.6797999739646912\n",
      "Epoch 17, CIFAR-10 Batch 4:  Loss: 0.2181326150894165 Validation_acc: 0.6890000104904175\n",
      "Epoch 17, CIFAR-10 Batch 5:  Loss: 0.12002749741077423 Validation_acc: 0.6665999889373779\n",
      "Epoch 18, CIFAR-10 Batch 1:  Loss: 0.2417268455028534 Validation_acc: 0.6790000200271606\n",
      "Epoch 18, CIFAR-10 Batch 2:  Loss: 0.16027352213859558 Validation_acc: 0.6890000104904175\n",
      "Epoch 18, CIFAR-10 Batch 3:  Loss: 0.10217863321304321 Validation_acc: 0.6854000091552734\n",
      "Epoch 18, CIFAR-10 Batch 4:  Loss: 0.18728096783161163 Validation_acc: 0.6935999989509583\n",
      "Epoch 18, CIFAR-10 Batch 5:  Loss: 0.10786724090576172 Validation_acc: 0.6773999929428101\n",
      "Epoch 19, CIFAR-10 Batch 1:  Loss: 0.19784407317638397 Validation_acc: 0.6940000057220459\n",
      "Epoch 19, CIFAR-10 Batch 2:  Loss: 0.17335407435894012 Validation_acc: 0.675000011920929\n",
      "Epoch 19, CIFAR-10 Batch 3:  Loss: 0.0776890367269516 Validation_acc: 0.6796000003814697\n",
      "Epoch 19, CIFAR-10 Batch 4:  Loss: 0.19007833302021027 Validation_acc: 0.6880000233650208\n",
      "Epoch 19, CIFAR-10 Batch 5:  Loss: 0.060879964381456375 Validation_acc: 0.6836000084877014\n",
      "Epoch 20, CIFAR-10 Batch 1:  Loss: 0.14606095850467682 Validation_acc: 0.6977999806404114\n",
      "Epoch 20, CIFAR-10 Batch 2:  Loss: 0.15484027564525604 Validation_acc: 0.6949999928474426\n",
      "Epoch 20, CIFAR-10 Batch 3:  Loss: 0.08216814696788788 Validation_acc: 0.6686000227928162\n",
      "Epoch 20, CIFAR-10 Batch 4:  Loss: 0.16711466014385223 Validation_acc: 0.6837999820709229\n",
      "Epoch 20, CIFAR-10 Batch 5:  Loss: 0.06591234356164932 Validation_acc: 0.6859999895095825\n",
      "Epoch 21, CIFAR-10 Batch 1:  Loss: 0.16823792457580566 Validation_acc: 0.6869999766349792\n",
      "Epoch 21, CIFAR-10 Batch 2:  Loss: 0.14180055260658264 Validation_acc: 0.6916000247001648\n",
      "Epoch 21, CIFAR-10 Batch 3:  Loss: 0.0670197531580925 Validation_acc: 0.65420001745224\n",
      "Epoch 21, CIFAR-10 Batch 4:  Loss: 0.15544746816158295 Validation_acc: 0.671999990940094\n",
      "Epoch 21, CIFAR-10 Batch 5:  Loss: 0.06406668573617935 Validation_acc: 0.6937999725341797\n",
      "Epoch 22, CIFAR-10 Batch 1:  Loss: 0.12758225202560425 Validation_acc: 0.676800012588501\n",
      "Epoch 22, CIFAR-10 Batch 2:  Loss: 0.13178779184818268 Validation_acc: 0.6823999881744385\n",
      "Epoch 22, CIFAR-10 Batch 3:  Loss: 0.05457344651222229 Validation_acc: 0.6669999957084656\n",
      "Epoch 22, CIFAR-10 Batch 4:  Loss: 0.14795303344726562 Validation_acc: 0.6661999821662903\n",
      "Epoch 22, CIFAR-10 Batch 5:  Loss: 0.060067068785429 Validation_acc: 0.6948000192642212\n",
      "Epoch 23, CIFAR-10 Batch 1:  Loss: 0.12193895876407623 Validation_acc: 0.6794000267982483\n",
      "Epoch 23, CIFAR-10 Batch 2:  Loss: 0.1451333463191986 Validation_acc: 0.6808000206947327\n",
      "Epoch 23, CIFAR-10 Batch 3:  Loss: 0.05409177020192146 Validation_acc: 0.6754000186920166\n",
      "Epoch 23, CIFAR-10 Batch 4:  Loss: 0.11517494916915894 Validation_acc: 0.6732000112533569\n",
      "Epoch 23, CIFAR-10 Batch 5:  Loss: 0.0544385202229023 Validation_acc: 0.6880000233650208\n",
      "Epoch 24, CIFAR-10 Batch 1:  Loss: 0.13218292593955994 Validation_acc: 0.6823999881744385\n",
      "Epoch 24, CIFAR-10 Batch 2:  Loss: 0.10206999629735947 Validation_acc: 0.6805999875068665\n",
      "Epoch 24, CIFAR-10 Batch 3:  Loss: 0.034448444843292236 Validation_acc: 0.6801999807357788\n",
      "Epoch 24, CIFAR-10 Batch 4:  Loss: 0.1327805072069168 Validation_acc: 0.6840000152587891\n",
      "Epoch 24, CIFAR-10 Batch 5:  Loss: 0.04750020429491997 Validation_acc: 0.6976000070571899\n",
      "Epoch 25, CIFAR-10 Batch 1:  Loss: 0.10376425087451935 Validation_acc: 0.6836000084877014\n",
      "Epoch 25, CIFAR-10 Batch 2:  Loss: 0.10549936443567276 Validation_acc: 0.6761999726295471\n",
      "Epoch 25, CIFAR-10 Batch 3:  Loss: 0.04739696532487869 Validation_acc: 0.6758000254631042\n",
      "Epoch 25, CIFAR-10 Batch 4:  Loss: 0.09038112312555313 Validation_acc: 0.6877999901771545\n",
      "Epoch 25, CIFAR-10 Batch 5:  Loss: 0.04500487446784973 Validation_acc: 0.6894000172615051\n",
      "Epoch 26, CIFAR-10 Batch 1:  Loss: 0.12182315438985825 Validation_acc: 0.6912000179290771\n",
      "Epoch 26, CIFAR-10 Batch 2:  Loss: 0.08590145409107208 Validation_acc: 0.6805999875068665\n",
      "Epoch 26, CIFAR-10 Batch 3:  Loss: 0.04839414358139038 Validation_acc: 0.6848000288009644\n",
      "Epoch 26, CIFAR-10 Batch 4:  Loss: 0.07715748250484467 Validation_acc: 0.6877999901771545\n",
      "Epoch 26, CIFAR-10 Batch 5:  Loss: 0.06265519559383392 Validation_acc: 0.6894000172615051\n",
      "Epoch 27, CIFAR-10 Batch 1:  Loss: 0.06952537596225739 Validation_acc: 0.6908000111579895\n",
      "Epoch 27, CIFAR-10 Batch 2:  Loss: 0.07607892900705338 Validation_acc: 0.6741999983787537\n",
      "Epoch 27, CIFAR-10 Batch 3:  Loss: 0.031918324530124664 Validation_acc: 0.6729999780654907\n",
      "Epoch 27, CIFAR-10 Batch 4:  Loss: 0.06714443862438202 Validation_acc: 0.6844000220298767\n",
      "Epoch 27, CIFAR-10 Batch 5:  Loss: 0.04594838619232178 Validation_acc: 0.6912000179290771\n",
      "Epoch 28, CIFAR-10 Batch 1:  Loss: 0.07174596935510635 Validation_acc: 0.6851999759674072\n",
      "Epoch 28, CIFAR-10 Batch 2:  Loss: 0.07854153215885162 Validation_acc: 0.6851999759674072\n",
      "Epoch 28, CIFAR-10 Batch 3:  Loss: 0.03045356646180153 Validation_acc: 0.6826000213623047\n",
      "Epoch 28, CIFAR-10 Batch 4:  Loss: 0.07761058211326599 Validation_acc: 0.6855999827384949\n",
      "Epoch 28, CIFAR-10 Batch 5:  Loss: 0.04033676162362099 Validation_acc: 0.6859999895095825\n",
      "Epoch 29, CIFAR-10 Batch 1:  Loss: 0.0714566707611084 Validation_acc: 0.6868000030517578\n",
      "Epoch 29, CIFAR-10 Batch 2:  Loss: 0.07280772924423218 Validation_acc: 0.6758000254631042\n",
      "Epoch 29, CIFAR-10 Batch 3:  Loss: 0.025050988420844078 Validation_acc: 0.673799991607666\n",
      "Epoch 29, CIFAR-10 Batch 4:  Loss: 0.08557635545730591 Validation_acc: 0.6962000131607056\n",
      "Epoch 29, CIFAR-10 Batch 5:  Loss: 0.046415068209171295 Validation_acc: 0.6922000050544739\n",
      "Epoch 30, CIFAR-10 Batch 1:  Loss: 0.04252990335226059 Validation_acc: 0.6840000152587891\n",
      "Epoch 30, CIFAR-10 Batch 2:  Loss: 0.07474212348461151 Validation_acc: 0.6866000294685364\n",
      "Epoch 30, CIFAR-10 Batch 3:  Loss: 0.0683087706565857 Validation_acc: 0.671999990940094\n",
      "Epoch 30, CIFAR-10 Batch 4:  Loss: 0.06686625629663467 Validation_acc: 0.6962000131607056\n",
      "Epoch 30, CIFAR-10 Batch 5:  Loss: 0.02161988988518715 Validation_acc: 0.6908000111579895\n",
      "Epoch 31, CIFAR-10 Batch 1:  Loss: 0.046752382069826126 Validation_acc: 0.6787999868392944\n",
      "Epoch 31, CIFAR-10 Batch 2:  Loss: 0.04573420062661171 Validation_acc: 0.6883999705314636\n",
      "Epoch 31, CIFAR-10 Batch 3:  Loss: 0.0255003459751606 Validation_acc: 0.6740000247955322\n",
      "Epoch 31, CIFAR-10 Batch 4:  Loss: 0.057978689670562744 Validation_acc: 0.6836000084877014\n",
      "Epoch 31, CIFAR-10 Batch 5:  Loss: 0.02479315549135208 Validation_acc: 0.692799985408783\n",
      "Epoch 32, CIFAR-10 Batch 1:  Loss: 0.046461738646030426 Validation_acc: 0.6833999752998352\n",
      "Epoch 32, CIFAR-10 Batch 2:  Loss: 0.04301925376057625 Validation_acc: 0.670799970626831\n",
      "Epoch 32, CIFAR-10 Batch 3:  Loss: 0.024924933910369873 Validation_acc: 0.6818000078201294\n",
      "Epoch 32, CIFAR-10 Batch 4:  Loss: 0.07647834718227386 Validation_acc: 0.6836000084877014\n",
      "Epoch 32, CIFAR-10 Batch 5:  Loss: 0.018544506281614304 Validation_acc: 0.6840000152587891\n",
      "Epoch 33, CIFAR-10 Batch 1:  Loss: 0.036587148904800415 Validation_acc: 0.6850000023841858\n",
      "Epoch 33, CIFAR-10 Batch 2:  Loss: 0.06629029661417007 Validation_acc: 0.6818000078201294\n",
      "Epoch 33, CIFAR-10 Batch 3:  Loss: 0.021200723946094513 Validation_acc: 0.6777999997138977\n",
      "Epoch 33, CIFAR-10 Batch 4:  Loss: 0.06622661650180817 Validation_acc: 0.6832000017166138\n",
      "Epoch 33, CIFAR-10 Batch 5:  Loss: 0.022685134783387184 Validation_acc: 0.6858000159263611\n",
      "Epoch 34, CIFAR-10 Batch 1:  Loss: 0.0386686809360981 Validation_acc: 0.6794000267982483\n",
      "Epoch 34, CIFAR-10 Batch 2:  Loss: 0.054753609001636505 Validation_acc: 0.6769999861717224\n",
      "Epoch 34, CIFAR-10 Batch 3:  Loss: 0.021711846813559532 Validation_acc: 0.6805999875068665\n",
      "Epoch 34, CIFAR-10 Batch 4:  Loss: 0.08497701585292816 Validation_acc: 0.675599992275238\n",
      "Epoch 34, CIFAR-10 Batch 5:  Loss: 0.01576804183423519 Validation_acc: 0.6934000253677368\n",
      "Epoch 35, CIFAR-10 Batch 1:  Loss: 0.049855392426252365 Validation_acc: 0.6765999794006348\n",
      "Epoch 35, CIFAR-10 Batch 2:  Loss: 0.023906519636511803 Validation_acc: 0.6759999990463257\n",
      "Epoch 35, CIFAR-10 Batch 3:  Loss: 0.024032875895500183 Validation_acc: 0.6812000274658203\n",
      "Epoch 35, CIFAR-10 Batch 4:  Loss: 0.05398229882121086 Validation_acc: 0.6787999868392944\n",
      "Epoch 35, CIFAR-10 Batch 5:  Loss: 0.01781882904469967 Validation_acc: 0.6851999759674072\n",
      "Epoch 36, CIFAR-10 Batch 1:  Loss: 0.038146644830703735 Validation_acc: 0.6782000064849854\n",
      "Epoch 36, CIFAR-10 Batch 2:  Loss: 0.04019702225923538 Validation_acc: 0.6736000180244446\n",
      "Epoch 36, CIFAR-10 Batch 3:  Loss: 0.02682775817811489 Validation_acc: 0.6948000192642212\n",
      "Epoch 36, CIFAR-10 Batch 4:  Loss: 0.05019044131040573 Validation_acc: 0.6931999921798706\n",
      "Epoch 36, CIFAR-10 Batch 5:  Loss: 0.01976891979575157 Validation_acc: 0.6851999759674072\n",
      "Epoch 37, CIFAR-10 Batch 1:  Loss: 0.034338414669036865 Validation_acc: 0.6704000234603882\n",
      "Epoch 37, CIFAR-10 Batch 2:  Loss: 0.03151996061205864 Validation_acc: 0.6818000078201294\n",
      "Epoch 37, CIFAR-10 Batch 3:  Loss: 0.02926977351307869 Validation_acc: 0.6863999962806702\n",
      "Epoch 37, CIFAR-10 Batch 4:  Loss: 0.03630024194717407 Validation_acc: 0.7020000219345093\n",
      "Epoch 37, CIFAR-10 Batch 5:  Loss: 0.022166509181261063 Validation_acc: 0.6783999800682068\n",
      "Epoch 38, CIFAR-10 Batch 1:  Loss: 0.05624522641301155 Validation_acc: 0.6571999788284302\n",
      "Epoch 38, CIFAR-10 Batch 2:  Loss: 0.06756101548671722 Validation_acc: 0.6690000295639038\n",
      "Epoch 38, CIFAR-10 Batch 3:  Loss: 0.026607608422636986 Validation_acc: 0.6764000058174133\n",
      "Epoch 38, CIFAR-10 Batch 4:  Loss: 0.0723368376493454 Validation_acc: 0.6912000179290771\n",
      "Epoch 38, CIFAR-10 Batch 5:  Loss: 0.013577503152191639 Validation_acc: 0.6814000010490417\n",
      "Epoch 39, CIFAR-10 Batch 1:  Loss: 0.034481875598430634 Validation_acc: 0.6723999977111816\n",
      "Epoch 39, CIFAR-10 Batch 2:  Loss: 0.04267613962292671 Validation_acc: 0.6765999794006348\n",
      "Epoch 39, CIFAR-10 Batch 3:  Loss: 0.013313060626387596 Validation_acc: 0.6937999725341797\n",
      "Epoch 39, CIFAR-10 Batch 4:  Loss: 0.03246081620454788 Validation_acc: 0.6984000205993652\n",
      "Epoch 39, CIFAR-10 Batch 5:  Loss: 0.010897455736994743 Validation_acc: 0.6794000267982483\n",
      "Epoch 40, CIFAR-10 Batch 1:  Loss: 0.03165248781442642 Validation_acc: 0.6692000031471252\n",
      "Epoch 40, CIFAR-10 Batch 2:  Loss: 0.044609200209379196 Validation_acc: 0.6794000267982483\n",
      "Epoch 40, CIFAR-10 Batch 3:  Loss: 0.02394798770546913 Validation_acc: 0.6901999711990356\n",
      "Epoch 40, CIFAR-10 Batch 4:  Loss: 0.0295984148979187 Validation_acc: 0.6895999908447266\n",
      "Epoch 40, CIFAR-10 Batch 5:  Loss: 0.009238587692379951 Validation_acc: 0.6787999868392944\n",
      "Epoch 41, CIFAR-10 Batch 1:  Loss: 0.01960761472582817 Validation_acc: 0.6777999997138977\n",
      "Epoch 41, CIFAR-10 Batch 2:  Loss: 0.019012903794646263 Validation_acc: 0.6746000051498413\n",
      "Epoch 41, CIFAR-10 Batch 3:  Loss: 0.026423167437314987 Validation_acc: 0.6952000260353088\n",
      "Epoch 41, CIFAR-10 Batch 4:  Loss: 0.03661471605300903 Validation_acc: 0.6904000043869019\n",
      "Epoch 41, CIFAR-10 Batch 5:  Loss: 0.010571851395070553 Validation_acc: 0.6827999949455261\n",
      "Epoch 42, CIFAR-10 Batch 1:  Loss: 0.02552046813070774 Validation_acc: 0.6761999726295471\n",
      "Epoch 42, CIFAR-10 Batch 2:  Loss: 0.0201767235994339 Validation_acc: 0.6746000051498413\n",
      "Epoch 42, CIFAR-10 Batch 3:  Loss: 0.006115364842116833 Validation_acc: 0.6995999813079834\n",
      "Epoch 42, CIFAR-10 Batch 4:  Loss: 0.04909346625208855 Validation_acc: 0.6797999739646912\n",
      "Epoch 42, CIFAR-10 Batch 5:  Loss: 0.008682161569595337 Validation_acc: 0.6930000185966492\n",
      "Epoch 43, CIFAR-10 Batch 1:  Loss: 0.023621495813131332 Validation_acc: 0.6679999828338623\n",
      "Epoch 43, CIFAR-10 Batch 2:  Loss: 0.013440044596791267 Validation_acc: 0.6854000091552734\n",
      "Epoch 43, CIFAR-10 Batch 3:  Loss: 0.011371652595698833 Validation_acc: 0.7009999752044678\n",
      "Epoch 43, CIFAR-10 Batch 4:  Loss: 0.03146307170391083 Validation_acc: 0.6890000104904175\n",
      "Epoch 43, CIFAR-10 Batch 5:  Loss: 0.007846804335713387 Validation_acc: 0.6832000017166138\n",
      "Epoch 44, CIFAR-10 Batch 1:  Loss: 0.03342758119106293 Validation_acc: 0.6765999794006348\n",
      "Epoch 44, CIFAR-10 Batch 2:  Loss: 0.03249850124120712 Validation_acc: 0.6690000295639038\n",
      "Epoch 44, CIFAR-10 Batch 3:  Loss: 0.010125760920345783 Validation_acc: 0.6926000118255615\n",
      "Epoch 44, CIFAR-10 Batch 4:  Loss: 0.01801767200231552 Validation_acc: 0.6794000267982483\n",
      "Epoch 44, CIFAR-10 Batch 5:  Loss: 0.009284941479563713 Validation_acc: 0.6801999807357788\n",
      "Epoch 45, CIFAR-10 Batch 1:  Loss: 0.01069551520049572 Validation_acc: 0.6805999875068665\n",
      "Epoch 45, CIFAR-10 Batch 2:  Loss: 0.007452695164829493 Validation_acc: 0.6787999868392944\n",
      "Epoch 45, CIFAR-10 Batch 3:  Loss: 0.014314288273453712 Validation_acc: 0.6909999847412109\n",
      "Epoch 45, CIFAR-10 Batch 4:  Loss: 0.03915625065565109 Validation_acc: 0.6876000165939331\n",
      "Epoch 45, CIFAR-10 Batch 5:  Loss: 0.026679685339331627 Validation_acc: 0.6855999827384949\n",
      "Epoch 46, CIFAR-10 Batch 1:  Loss: 0.02142869308590889 Validation_acc: 0.6801999807357788\n",
      "Epoch 46, CIFAR-10 Batch 2:  Loss: 0.008778790943324566 Validation_acc: 0.6858000159263611\n",
      "Epoch 46, CIFAR-10 Batch 3:  Loss: 0.012263698503375053 Validation_acc: 0.6944000124931335\n",
      "Epoch 46, CIFAR-10 Batch 4:  Loss: 0.014890611171722412 Validation_acc: 0.6868000030517578\n",
      "Epoch 46, CIFAR-10 Batch 5:  Loss: 0.008823255077004433 Validation_acc: 0.6891999840736389\n",
      "Epoch 47, CIFAR-10 Batch 1:  Loss: 0.017031991854310036 Validation_acc: 0.6818000078201294\n",
      "Epoch 47, CIFAR-10 Batch 2:  Loss: 0.0074982354417443275 Validation_acc: 0.6782000064849854\n",
      "Epoch 47, CIFAR-10 Batch 3:  Loss: 0.01156008243560791 Validation_acc: 0.6880000233650208\n",
      "Epoch 47, CIFAR-10 Batch 4:  Loss: 0.013027524575591087 Validation_acc: 0.6869999766349792\n",
      "Epoch 47, CIFAR-10 Batch 5:  Loss: 0.007256010081619024 Validation_acc: 0.6794000267982483\n",
      "Epoch 48, CIFAR-10 Batch 1:  Loss: 0.019895687699317932 Validation_acc: 0.6787999868392944\n",
      "Epoch 48, CIFAR-10 Batch 2:  Loss: 0.005244112573564053 Validation_acc: 0.6826000213623047\n",
      "Epoch 48, CIFAR-10 Batch 3:  Loss: 0.020707083866000175 Validation_acc: 0.6869999766349792\n",
      "Epoch 48, CIFAR-10 Batch 4:  Loss: 0.03195227310061455 Validation_acc: 0.6765999794006348\n",
      "Epoch 48, CIFAR-10 Batch 5:  Loss: 0.02803751826286316 Validation_acc: 0.6840000152587891\n",
      "Epoch 49, CIFAR-10 Batch 1:  Loss: 0.01085816603153944 Validation_acc: 0.6837999820709229\n",
      "Epoch 49, CIFAR-10 Batch 2:  Loss: 0.00872691161930561 Validation_acc: 0.6823999881744385\n",
      "Epoch 49, CIFAR-10 Batch 3:  Loss: 0.010090233758091927 Validation_acc: 0.6916000247001648\n",
      "Epoch 49, CIFAR-10 Batch 4:  Loss: 0.024206655099987984 Validation_acc: 0.6797999739646912\n",
      "Epoch 49, CIFAR-10 Batch 5:  Loss: 0.017873775213956833 Validation_acc: 0.6866000294685364\n",
      "Epoch 50, CIFAR-10 Batch 1:  Loss: 0.016652215272188187 Validation_acc: 0.6819999814033508\n",
      "Epoch 50, CIFAR-10 Batch 2:  Loss: 0.0174667090177536 Validation_acc: 0.6790000200271606\n",
      "Epoch 50, CIFAR-10 Batch 3:  Loss: 0.015258640050888062 Validation_acc: 0.6862000226974487\n",
      "Epoch 50, CIFAR-10 Batch 4:  Loss: 0.025157541036605835 Validation_acc: 0.6868000030517578\n",
      "Epoch 50, CIFAR-10 Batch 5:  Loss: 0.005585724022239447 Validation_acc: 0.6827999949455261\n",
      "Epoch 51, CIFAR-10 Batch 1:  Loss: 0.015349112451076508 Validation_acc: 0.6814000010490417\n",
      "Epoch 51, CIFAR-10 Batch 2:  Loss: 0.010216883383691311 Validation_acc: 0.6790000200271606\n",
      "Epoch 51, CIFAR-10 Batch 3:  Loss: 0.014013024978339672 Validation_acc: 0.6800000071525574\n",
      "Epoch 51, CIFAR-10 Batch 4:  Loss: 0.011296589858829975 Validation_acc: 0.6869999766349792\n",
      "Epoch 51, CIFAR-10 Batch 5:  Loss: 0.03527028113603592 Validation_acc: 0.673799991607666\n",
      "Epoch 52, CIFAR-10 Batch 1:  Loss: 0.02397778071463108 Validation_acc: 0.6887999773025513\n",
      "Epoch 52, CIFAR-10 Batch 2:  Loss: 0.015114215202629566 Validation_acc: 0.6796000003814697\n",
      "Epoch 52, CIFAR-10 Batch 3:  Loss: 0.00933581031858921 Validation_acc: 0.6872000098228455\n",
      "Epoch 52, CIFAR-10 Batch 4:  Loss: 0.006910854484885931 Validation_acc: 0.6776000261306763\n",
      "Epoch 52, CIFAR-10 Batch 5:  Loss: 0.02088419906795025 Validation_acc: 0.6819999814033508\n",
      "Epoch 53, CIFAR-10 Batch 1:  Loss: 0.012704692780971527 Validation_acc: 0.6827999949455261\n",
      "Epoch 53, CIFAR-10 Batch 2:  Loss: 0.008305802941322327 Validation_acc: 0.6791999936103821\n",
      "Epoch 53, CIFAR-10 Batch 3:  Loss: 0.009960884228348732 Validation_acc: 0.6905999779701233\n",
      "Epoch 53, CIFAR-10 Batch 4:  Loss: 0.00962899625301361 Validation_acc: 0.6823999881744385\n",
      "Epoch 53, CIFAR-10 Batch 5:  Loss: 0.007474994752556086 Validation_acc: 0.6743999719619751\n",
      "Epoch 54, CIFAR-10 Batch 1:  Loss: 0.011648034676909447 Validation_acc: 0.694599986076355\n",
      "Epoch 54, CIFAR-10 Batch 2:  Loss: 0.01738589070737362 Validation_acc: 0.6796000003814697\n",
      "Epoch 54, CIFAR-10 Batch 3:  Loss: 0.016816603019833565 Validation_acc: 0.6909999847412109\n",
      "Epoch 54, CIFAR-10 Batch 4:  Loss: 0.020859170705080032 Validation_acc: 0.6881999969482422\n",
      "Epoch 54, CIFAR-10 Batch 5:  Loss: 0.004869796801358461 Validation_acc: 0.680400013923645\n",
      "Epoch 55, CIFAR-10 Batch 1:  Loss: 0.015454834327101707 Validation_acc: 0.6905999779701233\n",
      "Epoch 55, CIFAR-10 Batch 2:  Loss: 0.01249359268695116 Validation_acc: 0.6741999983787537\n",
      "Epoch 55, CIFAR-10 Batch 3:  Loss: 0.013462444767355919 Validation_acc: 0.6891999840736389\n",
      "Epoch 55, CIFAR-10 Batch 4:  Loss: 0.01732572726905346 Validation_acc: 0.6899999976158142\n",
      "Epoch 55, CIFAR-10 Batch 5:  Loss: 0.001579247647896409 Validation_acc: 0.6826000213623047\n",
      "Epoch 56, CIFAR-10 Batch 1:  Loss: 0.007410024292767048 Validation_acc: 0.6958000063896179\n",
      "Epoch 56, CIFAR-10 Batch 2:  Loss: 0.014415296725928783 Validation_acc: 0.6905999779701233\n",
      "Epoch 56, CIFAR-10 Batch 3:  Loss: 0.006081331521272659 Validation_acc: 0.6966000199317932\n",
      "Epoch 56, CIFAR-10 Batch 4:  Loss: 0.011540182866156101 Validation_acc: 0.6800000071525574\n",
      "Epoch 56, CIFAR-10 Batch 5:  Loss: 0.002310480922460556 Validation_acc: 0.6909999847412109\n",
      "Epoch 57, CIFAR-10 Batch 1:  Loss: 0.015531903132796288 Validation_acc: 0.6823999881744385\n",
      "Epoch 57, CIFAR-10 Batch 2:  Loss: 0.006702807731926441 Validation_acc: 0.6764000058174133\n",
      "Epoch 57, CIFAR-10 Batch 3:  Loss: 0.015106434933841228 Validation_acc: 0.6940000057220459\n",
      "Epoch 57, CIFAR-10 Batch 4:  Loss: 0.03915943577885628 Validation_acc: 0.6848000288009644\n",
      "Epoch 57, CIFAR-10 Batch 5:  Loss: 0.002972011687234044 Validation_acc: 0.6841999888420105\n",
      "Epoch 58, CIFAR-10 Batch 1:  Loss: 0.010833317413926125 Validation_acc: 0.6955999732017517\n",
      "Epoch 58, CIFAR-10 Batch 2:  Loss: 0.009257498197257519 Validation_acc: 0.6917999982833862\n",
      "Epoch 58, CIFAR-10 Batch 3:  Loss: 0.0032031405717134476 Validation_acc: 0.6895999908447266\n",
      "Epoch 58, CIFAR-10 Batch 4:  Loss: 0.006859614048153162 Validation_acc: 0.6891999840736389\n",
      "Epoch 58, CIFAR-10 Batch 5:  Loss: 0.00329858367331326 Validation_acc: 0.6862000226974487\n",
      "Epoch 59, CIFAR-10 Batch 1:  Loss: 0.009885348379611969 Validation_acc: 0.6908000111579895\n",
      "Epoch 59, CIFAR-10 Batch 2:  Loss: 0.006040410604327917 Validation_acc: 0.6898000240325928\n",
      "Epoch 59, CIFAR-10 Batch 3:  Loss: 0.0045598354190588 Validation_acc: 0.6967999935150146\n",
      "Epoch 59, CIFAR-10 Batch 4:  Loss: 0.01998836360871792 Validation_acc: 0.6881999969482422\n",
      "Epoch 59, CIFAR-10 Batch 5:  Loss: 0.0021503069438040257 Validation_acc: 0.6894000172615051\n",
      "Epoch 60, CIFAR-10 Batch 1:  Loss: 0.029884260147809982 Validation_acc: 0.6886000037193298\n",
      "Epoch 60, CIFAR-10 Batch 2:  Loss: 0.0094958720728755 Validation_acc: 0.6908000111579895\n",
      "Epoch 60, CIFAR-10 Batch 3:  Loss: 0.01626652479171753 Validation_acc: 0.6923999786376953\n",
      "Epoch 60, CIFAR-10 Batch 4:  Loss: 0.00785758811980486 Validation_acc: 0.6912000179290771\n",
      "Epoch 60, CIFAR-10 Batch 5:  Loss: 0.012459191493690014 Validation_acc: 0.6651999950408936\n"
     ]
    }
   ],
   "source": [
    "\"\"\"\n",
    "DON'T MODIFY ANYTHING IN THIS CELL\n",
    "\"\"\"\n",
    "save_model_path = './image_classification'\n",
    "\n",
    "print('Training...')\n",
    "with tf.Session() as sess:\n",
    "    # Initializing the variables\n",
    "    sess.run(tf.global_variables_initializer())\n",
    "    \n",
    "    # Training cycle\n",
    "    for epoch in range(epochs):\n",
    "        # Loop over all batches\n",
    "        n_batches = 5\n",
    "        for batch_i in range(1, n_batches + 1):\n",
    "            for batch_features, batch_labels in helper.load_preprocess_training_batch(batch_i, batch_size):\n",
    "                train_neural_network(sess, optimizer, keep_probability, batch_features, batch_labels)\n",
    "            print('Epoch {:>2}, CIFAR-10 Batch {}:  '.format(epoch + 1, batch_i), end='')\n",
    "            print_stats(sess, batch_features, batch_labels, cost, accuracy)\n",
    "            \n",
    "    # Save Model\n",
    "    saver = tf.train.Saver()\n",
    "    save_path = saver.save(sess, save_model_path)"
   ]
  },
  {
   "cell_type": "markdown",
   "metadata": {
    "deletable": true,
    "editable": true
   },
   "source": [
    "# Checkpoint\n",
    "The model has been saved to disk.\n",
    "## Test Model\n",
    "Test your model against the test dataset.  This will be your final accuracy. You should have an accuracy greater than 50%. If you don't, keep tweaking the model architecture and parameters."
   ]
  },
  {
   "cell_type": "code",
   "execution_count": 27,
   "metadata": {
    "collapsed": false,
    "deletable": true,
    "editable": true
   },
   "outputs": [
    {
     "name": "stdout",
     "output_type": "stream",
     "text": [
      "Testing Accuracy: 0.6582278481012658\n",
      "\n"
     ]
    },
    {
     "data": {
      "image/png": "[encoded data removed]",
      "text/plain": [
       "<matplotlib.figure.Figure at 0x7f219a556588>"
      ]
     },
     "metadata": {
      "image/png": {
       "height": 319,
       "width": 355
      }
     },
     "output_type": "display_data"
    }
   ],
   "source": [
    "\"\"\"\n",
    "DON'T MODIFY ANYTHING IN THIS CELL\n",
    "\"\"\"\n",
    "%matplotlib inline\n",
    "%config InlineBackend.figure_format = 'retina'\n",
    "\n",
    "import tensorflow as tf\n",
    "import pickle\n",
    "import helper\n",
    "import random\n",
    "\n",
    "# Set batch size if not already set\n",
    "try:\n",
    "    if batch_size:\n",
    "        pass\n",
    "except NameError:\n",
    "    batch_size = 64\n",
    "\n",
    "save_model_path = './image_classification'\n",
    "n_samples = 4\n",
    "top_n_predictions = 3\n",
    "\n",
    "def test_model():\n",
    "    \"\"\"\n",
    "    Test the saved model against the test dataset\n",
    "    \"\"\"\n",
    "\n",
    "    test_features, test_labels = pickle.load(open('preprocess_training.p', mode='rb'))\n",
    "    loaded_graph = tf.Graph()\n",
    "\n",
    "    with tf.Session(graph=loaded_graph) as sess:\n",
    "        # Load model\n",
    "        loader = tf.train.import_meta_graph(save_model_path + '.meta')\n",
    "        loader.restore(sess, save_model_path)\n",
    "\n",
    "        # Get Tensors from loaded model\n",
    "        loaded_x = loaded_graph.get_tensor_by_name('x:0')\n",
    "        loaded_y = loaded_graph.get_tensor_by_name('y:0')\n",
    "        loaded_keep_prob = loaded_graph.get_tensor_by_name('keep_prob:0')\n",
    "        loaded_logits = loaded_graph.get_tensor_by_name('logits:0')\n",
    "        loaded_acc = loaded_graph.get_tensor_by_name('accuracy:0')\n",
    "        \n",
    "        # Get accuracy in batches for memory limitations\n",
    "        test_batch_acc_total = 0\n",
    "        test_batch_count = 0\n",
    "        \n",
    "        for train_feature_batch, train_label_batch in helper.batch_features_labels(test_features, test_labels, batch_size):\n",
    "            test_batch_acc_total += sess.run(\n",
    "                loaded_acc,\n",
    "                feed_dict={loaded_x: train_feature_batch, loaded_y: train_label_batch, loaded_keep_prob: 1.0})\n",
    "            test_batch_count += 1\n",
    "\n",
    "        print('Testing Accuracy: {}\\n'.format(test_batch_acc_total/test_batch_count))\n",
    "\n",
    "        # Print Random Samples\n",
    "        random_test_features, random_test_labels = tuple(zip(*random.sample(list(zip(test_features, test_labels)), n_samples)))\n",
    "        random_test_predictions = sess.run(\n",
    "            tf.nn.top_k(tf.nn.softmax(loaded_logits), top_n_predictions),\n",
    "            feed_dict={loaded_x: random_test_features, loaded_y: random_test_labels, loaded_keep_prob: 1.0})\n",
    "        helper.display_image_predictions(random_test_features, random_test_labels, random_test_predictions)\n",
    "\n",
    "\n",
    "test_model()"
   ]
  },
  {
   "cell_type": "markdown",
   "metadata": {
    "deletable": true,
    "editable": true
   },
   "source": [
    "## Why 50-70% Accuracy?\n",
    "You might be wondering why you can't get an accuracy any higher. First things first, 50% isn't bad for a simple CNN.  Pure guessing would get you 10% accuracy. However, you might notice people are getting scores [well above 70%](http://rodrigob.github.io/are_we_there_yet/build/classification_datasets_results.html#43494641522d3130).  That's because we haven't taught you all there is to know about neural networks. We still need to cover a few more techniques.\n",
    "## Submitting This Project\n",
    "When submitting this project, make sure to run all the cells before saving the notebook.  Save the notebook file as \"dlnd_image_classification.ipynb\" and save it as a HTML file under \"File\" -> \"Download as\".  Include the \"helper.py\" and \"problem_unittests.py\" files in your submission."
   ]
  }
 ],
 "metadata": {
  "anaconda-cloud": {},
  "kernelspec": {
   "display_name": "Python 3",
   "language": "python",
   "name": "python3"
  },
  "language_info": {
   "codemirror_mode": {
    "name": "ipython",
    "version": 3
   },
   "file_extension": ".py",
   "mimetype": "text/x-python",
   "name": "python",
   "nbconvert_exporter": "python",
   "pygments_lexer": "ipython3",
   "version": "3.6.0"
  }
 },
 "nbformat": 4,
 "nbformat_minor": 0
}
